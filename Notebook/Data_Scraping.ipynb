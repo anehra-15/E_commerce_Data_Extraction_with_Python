{
 "cells": [
  {
   "cell_type": "code",
   "execution_count": 1,
   "id": "d51c7e73-94f6-40ff-b84a-baefb191c4f2",
   "metadata": {},
   "outputs": [],
   "source": [
    "from bs4 import BeautifulSoup as bs \n",
    "import requests as r\n",
    "import pandas as pd"
   ]
  },
  {
   "cell_type": "code",
   "execution_count": 4,
   "id": "e81c65a0-35b9-4761-a978-a83bd2c41d9f",
   "metadata": {},
   "outputs": [
    {
     "data": {
      "text/plain": [
       "<Response [200]>"
      ]
     },
     "execution_count": 4,
     "metadata": {},
     "output_type": "execute_result"
    }
   ],
   "source": [
    "# Link from where you want to scrape the data from\n",
    "Source_URL=\"https://www.amazon.com/s?k=xbox&crid=XQR3LJW42TZG&sprefix=xbox%2Caps%2C389&ref=nb_sb_noss_1\"\n",
    "\n",
    "# Custom HTTP header values as per the requirement\n",
    "HEADERS={'User-Agent':'Mozilla/5.0 (Windows NT 10.0; Win64; x64) AppleWebKit/537.36 (KHTML, like Gecko) Chrome/120.0.0.0 Safari/537.36','Accept-Language': 'en-US, en;q=0.5'}\n",
    "\n",
    "# Making HTTP request to the target page, Response 200 denotes that request was successful\n",
    "r1=r.get(Source_URL,headers=HEADERS)\n",
    "r1"
   ]
  },
  {
   "cell_type": "code",
   "execution_count": 10,
   "id": "7fc8d1be-8163-43db-8e6d-a60a90503d10",
   "metadata": {},
   "outputs": [
    {
     "name": "stdout",
     "output_type": "stream",
     "text": [
      "<!DOCTYPE html>\n",
      "<html class=\"a-no-js\" data-19ax5a9jf=\"dingo\" lang=\"en-us\"><!-- sp:feature:head-start -->\n",
      "<head><script>var aPageStart = (new Date()).getTime();</script><meta charset=\"utf-8\"/>\n",
      "<!-- sp:end-feature:head-start -->\n",
      "<!-- sp:feature:csm:head-open-part1 -->\n",
      "<script type=\"text/javascript\">var ue_t0=ue_t0||+new Date();</script>\n",
      "<!-- sp:end-feature:csm:head-open-part1 -->\n",
      "<!-- sp:feature:cs-optimization -->\n",
      "<meta content=\"on\" http-equiv=\"x-dns-prefetch-control\"/>\n",
      "<link crossorigin=\"\" href=\"https://images-na.ssl-images-amazon.com\" rel=\"dns-prefetch\"/>\n",
      "<link crossorigin=\"\" href=\"https://images-na.ssl-images-amazon.com\" rel=\"preconnect\"/>\n",
      "<link crossorigin=\"\" href=\"https://m.media-amazon.com\" rel=\"dns-prefetch\"/>\n",
      "<link crossorigin=\"\" href=\"https://m.media-amazon.com\" rel=\"preconnect\"/>\n",
      "<link crossorigin=\"\" href=\"https://completion.amazon.com\" rel=\"dns-prefetch\"/>\n",
      "<link crossorigin=\"\" href=\"https://completion.amazon.com\" rel=\"preconnect\"/>\n",
      "<!-- sp:end-feature:cs-optimization -->\n",
      "<!--\n"
     ]
    }
   ],
   "source": [
    "a=r1.content\n",
    "\n",
    "# Using BeautifulSoup to parse the fetched wbpae content in html format\n",
    "webpage_r1=bs(a,'html.parser')\n",
    "\n",
    "# Just to show the first few lines of fetched content\n",
    "sample=str(webpage_r1)\n",
    "print(sample[:1000])"
   ]
  },
  {
   "cell_type": "code",
   "execution_count": 24,
   "id": "b927b0c9-88ef-40ca-b5b0-57938bcbc90e",
   "metadata": {},
   "outputs": [],
   "source": [
    "# Function for extracting the product title\n",
    "def title_fetch(s):\n",
    "    try:\n",
    "        prod_name=s.find(\"span\",attrs={'id':'productTitle'}).text.strip()\n",
    "    except AttributeError:\n",
    "        prod_name=\"\"\n",
    "    return prod_name\n",
    "\n",
    "# Function for extracting the product price\n",
    "def price_fetch(s):\n",
    "    try:\n",
    "        prod_price=s.find(\"span\",attrs={'class':'a-offscreen'}).text.strip()\n",
    "    except AttributeError:\n",
    "        prod_price=\"\"\n",
    "    return prod_price\n",
    "\n",
    "# Function for extracting the product rating\n",
    "def rating_fetch(s):\n",
    "    try:\n",
    "        prod_rating=s.find(\"span\",attrs={'class':'a-icon-alt'}).text.strip()\n",
    "    except AttributeError:\n",
    "        prod_rating=\"\"\n",
    "    return prod_rating\n",
    "\n",
    "# Function for extracting the product reviews\n",
    "def fetch_reviews(s):\n",
    "    try:\n",
    "        prod_rat=s.find(\"span\",attrs={'id':'acrCustomerReviewText'}).text.strip()\n",
    "    except AttributeError:\n",
    "        prod_rat=\"\"\n",
    "    return prod_rat\n",
    "    \n",
    "# Function for extracting the product availability\n",
    "def fetch_availability(s):\n",
    "    try:\n",
    "        prod_availability=s.find(\"span\",attrs={'class':'a-size-medium a-color-success'}).text.strip()\n",
    "    except AttributeError:\n",
    "        prod_availability=\"Not Available\"\n",
    "    return prod_availability"
   ]
  },
  {
   "cell_type": "code",
   "execution_count": 25,
   "id": "1bc0fec4-e439-4029-981d-ab8d32a664a5",
   "metadata": {},
   "outputs": [],
   "source": [
    "# finding the links of all the products listed for our required product on the source web page\n",
    "links=webpage_r1.find_all(\"a\", attrs={'class':'a-link-normal s-underline-text s-underline-link-text s-link-style a-text-normal'})\n",
    "link_fetch=[]\n",
    "# storing all the links in a list\n",
    "for i in links:\n",
    "    temp=i.get('href')\n",
    "    l='https://www.amazon.com/'+temp\n",
    "    link_fetch.append(l)\n",
    "dict={'Title':[],'Price':[],'Rating':[],'Number_of_Reviews':[],'Availability':[]}\n",
    "\n",
    "for i in link_fetch:\n",
    "    new_URL=i\n",
    "    r2=r.get(new_URL,headers=HEADERS)\n",
    "    b=r2.content\n",
    "    webpage_r2=bs(b,'html.parser')\n",
    "    dict['Title'].append(title_fetch(webpage_r2))\n",
    "    dict['Price'].append(price_fetch(webpage_r2))\n",
    "    dict['Rating'].append(rating_fetch(webpage_r2))\n",
    "    dict['Number_of_Reviews'].append(fetch_reviews(webpage_r2))\n",
    "    dict['Availability'].append(fetch_availability(webpage_r2))\n",
    "\n",
    "\n",
    "    \n"
   ]
  },
  {
   "cell_type": "code",
   "execution_count": 26,
   "id": "cb1b4d85-6cde-4724-9bb5-da44c7dcf590",
   "metadata": {},
   "outputs": [
    {
     "name": "stdout",
     "output_type": "stream",
     "text": [
      "{'Title': ['Upgraded RGB Cooling Fan Charging Station for Xbox Series S Console & Controller,Dual Charger Dock and Cooler System Stand with 15 Colorful Light Modes Accessories with 2*1400mAH Rechargeable Battery', 'Upgrade Cooling Fan &Dual Controller Charging Station for Xbox Series X with 15RGB Light, Vertical Stand Charger Dock with 2 Rechargeable Batteries Packs, Cooler System with Disc Accessories Storage', '$15 Xbox Gift Card [Digital Code]', 'Xbox Series X 1TB SSD Console - Includes Wireless Controller - Up to 120 frames per second - 16GB RAM 1TB SSD - Experience True 4K Gaming Velocity Architecture', 'Xbox Series S – Starter Bundle - Includes hundreds of games with Game Pass Ultimate 3 Month Membership - 512GB SSD All-Digital Gaming Console', '', 'Microsoft Xbox Series X Video Game 1TB Console + 1 Xbox Wireless Controller Black, 2160p Video Resolution, 4K Ultra HD Player, 120FPS, Wi-Fi, TSBEAU Silicone Controller Cover Skin + HDMI Cable', 'Xbox Series S Fortnite and Rocket League Bundle - Includes Xbox Wireless Controller - Includes Fortnite & Rocket League Downloads - 10GB RAM 512GB SSD - Up to 120 frames per second - Experience hi', 'Xbox Series X Replica Mini Fridge Thermoelectric Cooler, 10 Liters', 'Xbox Series S 512 GB All-Digital (Holiday 2022) + Extra Wireless Controller (Carbon Black) Bundle', 'Microsoft Xbox Series X Diablo IV Bundle - Includes Xbox Wireless Controller - Up to 120 frames per second - 16GB RAM 1TB SSD - Experience True 4K Gaming - Comes with Digital Copy for Diablo IV', 'Microsoft RRT-00001 Xbox Series X 1TB SSD Bundle with 2 YR CPS Enhanced Protection Pack', 'VITURE One Cloud Pack: XR Glasses & Neckband, Official Partner of PSPlay & XBXPlay, Remote Play, Compatible with Playstation/Xbox/PC Games, Streaming On The Go, 128GB Storage, Bluetooth (Matte Blue)', 'Xbox Core Wireless Gaming Controller – Astral Purple – Xbox Series X|S, Xbox One, Windows PC, Android, and iOS', 'Microsoft RRT-00001 Xbox Series X 1TB SSD Bundle with 3 YR CPS Enhanced Protection Pack', 'Microsoft Xbox Series S 512GB SSD Console White - Includes Xbox Wireless Controller - Up to 120 frames per second - 10GB RAM 512GB SSD - Experience high dynamic range - Xbox Velocity Architecture', 'Hogwarts Legacy - Xbox One | English | EU Version Region Free', 'BoxWave Keyboard Compatible with MobileDemand xTablet Flex 10A - SlimKeys Bluetooth Keyboard with Trackpad, Portable Keyboard with Trackpad for MobileDemand xTablet Flex 10A - Jet Black', 'Xbox One 500GB Console (Renewed)', 'Microsoft Xbox One X 1TB Refurbished', 'FORTNITE Digital V-Bucks 2800 - PlayStation/Xbox/Nintendo Switch/PC/Mobile [Digital Code]', 'Cooling Stand & Controller Charging Station for Xbox Series S with 13 RGB Light Mode, ZAONOOL Dual Charger Dock & Cooler Fan with 2*1400mAh Rechargeable Battery and Headset Hook for Xbox S Accessories', 'Rechargeable Battery Pack for Xbox One Controller, 4 x 2000mAh Xbox One Rechargeable Battery Pack Charger, Compatible with Xbox One/X/S/Elite/Series X|S Controllers', ''], 'Price': ['$54.99', '$57.99', '$15.00', '$446.98', '$289.00', '', '$449.00', '$379.00', '$69.99', '$339.99', '$461.85', '$449.99', '$618.00', '$59.99', '$489.00', '$338.00', '$44.35', '$37.95', '$213.90', '$339.90', '$22.99', '$59.99', '$25.98', ''], 'Rating': ['4.6 out of 5 stars', '4.1 out of 5 stars', '4.6 out of 5 stars', '4.8 out of 5 stars', '4.5 out of 5 stars', '', '4.6 out of 5 stars', '4.8 out of 5 stars', '4.1 out of 5 stars', '4.7 out of 5 stars', '4.7 out of 5 stars', '3.9 out of 5 stars', 'Previous page of related Sponsored Products', '4.7 out of 5 stars', 'Previous page of related Sponsored Products', '4.8 out of 5 stars', '4.6 out of 5 stars', 'Previous page of related Sponsored Products', '4.0 out of 5 stars', '4.5 out of 5 stars', '2.8 out of 5 stars', '4.5 out of 5 stars', '4.2 out of 5 stars', ''], 'Number_of_Reviews': ['81 ratings', '95 ratings', '178,307 ratings', '24,682 ratings', '204 ratings', '', '280 ratings', '6,113 ratings', '867 ratings', '30 ratings', '408 ratings', '8 ratings', '', '62,230 ratings', '', '3,576 ratings', '150 ratings', '', '1,072 ratings', '488 ratings', '24 ratings', '216 ratings', '12 ratings', ''], 'Availability': ['In Stock', 'In Stock', 'Available now', 'In Stock', 'In Stock', 'Not Available', 'Not Available', 'In Stock', 'In Stock', 'In Stock', 'In Stock', 'Not Available', 'Not Available', 'In Stock', 'In Stock', 'In stock', 'In Stock', 'Not Available', 'In Stock', 'In Stock', 'Available now', 'In Stock', 'In Stock', 'Not Available']}\n"
     ]
    }
   ],
   "source": [
    "print(dict)"
   ]
  },
  {
   "cell_type": "code",
   "execution_count": 29,
   "id": "5ad8cfbd-6d08-48e0-8a5d-7864d78ebda6",
   "metadata": {},
   "outputs": [
    {
     "name": "stdout",
     "output_type": "stream",
     "text": [
      "                                               Title    Price  \\\n",
      "0  Upgraded RGB Cooling Fan Charging Station for ...   $54.99   \n",
      "1  Upgrade Cooling Fan &Dual Controller Charging ...   $57.99   \n",
      "2                  $15 Xbox Gift Card [Digital Code]   $15.00   \n",
      "3  Xbox Series X 1TB SSD Console - Includes Wirel...  $446.98   \n",
      "4  Xbox Series S – Starter Bundle - Includes hund...  $289.00   \n",
      "\n",
      "               Rating Number_of_Reviews   Availability  \n",
      "0  4.6 out of 5 stars        81 ratings       In Stock  \n",
      "1  4.1 out of 5 stars        95 ratings       In Stock  \n",
      "2  4.6 out of 5 stars   178,307 ratings  Available now  \n",
      "3  4.8 out of 5 stars    24,682 ratings       In Stock  \n",
      "4  4.5 out of 5 stars       204 ratings       In Stock  \n"
     ]
    }
   ],
   "source": [
    "df=pd.DataFrame(dict)\n",
    "print(df.head())\n",
    "df.to_csv(\"scraped_data.csv\",header=True,index=False)"
   ]
  }
 ],
 "metadata": {
  "kernelspec": {
   "display_name": "Python 3 (ipykernel)",
   "language": "python",
   "name": "python3"
  },
  "language_info": {
   "codemirror_mode": {
    "name": "ipython",
    "version": 3
   },
   "file_extension": ".py",
   "mimetype": "text/x-python",
   "name": "python",
   "nbconvert_exporter": "python",
   "pygments_lexer": "ipython3",
   "version": "3.10.0"
  }
 },
 "nbformat": 4,
 "nbformat_minor": 5
}
